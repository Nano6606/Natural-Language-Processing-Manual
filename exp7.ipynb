{
 "cells": [
  {
   "cell_type": "code",
   "execution_count": 2,
   "id": "7dea37ec",
   "metadata": {},
   "outputs": [
    {
     "name": "stdout",
     "output_type": "stream",
     "text": [
      "['DT', 'NN', 'VB', 'JJ']\n"
     ]
    }
   ],
   "source": [
    "import numpy as np\n",
    "\n",
    "class HMM:\n",
    "    def __init__(self, states, emissions, start_probs, trans_probs, emit_probs):\n",
    "        self.states = states\n",
    "        self.emissions = emissions\n",
    "        self.start_probs = start_probs\n",
    "        self.trans_probs = trans_probs\n",
    "        self.emit_probs = emit_probs\n",
    "\n",
    "    def viterbi(self, obs):\n",
    "        T = len(obs)\n",
    "        N = len(self.states)\n",
    "\n",
    "        # Initialize the V table\n",
    "        V = np.zeros((T, N))\n",
    "        V[0] = self.start_probs * self.emit_probs[:, self.emissions.index(obs[0])]\n",
    "\n",
    "        # Iterate over the observations\n",
    "        for t in range(1, T):\n",
    "            for s in range(N):\n",
    "                V[t, s] = np.max(V[t - 1] * self.trans_probs[:, s]) * self.emit_probs[s, self.emissions.index(obs[t])]\n",
    "\n",
    "        # Backtrack to find the most likely state sequence\n",
    "        path = np.zeros(T, dtype=int)\n",
    "        path[T - 1] = np.argmax(V[T - 1])\n",
    "        for t in range(T - 2, -1, -1):\n",
    "            path[t] = np.argmax(V[t] * self.trans_probs[:, path[t + 1]])\n",
    "\n",
    "        return path\n",
    "\n",
    "    def tag(self, obs):\n",
    "        path = self.viterbi(obs)\n",
    "        return [self.states[s] for s in path]\n",
    "\n",
    "# Example usage:\n",
    "\n",
    "states = [\"NN\", \"VB\", \"DT\", \"JJ\"]\n",
    "emissions = [\"dog\", \"run\", \"the\", \"fast\"]\n",
    "start_probs = np.array([0.2, 0.4, 0.2, 0.2])\n",
    "trans_probs = np.array([[0.5, 0.2, 0.2, 0.1],\n",
    "                         [0.3, 0.5, 0.1, 0.1],\n",
    "                         [0.1, 0.1, 0.6, 0.2],\n",
    "                         [0.1, 0.1, 0.2, 0.6]])\n",
    "emit_probs = np.array([[0.8, 0.1, 0.05, 0.05],\n",
    "                        [0.05, 0.8, 0.05, 0.1],\n",
    "                        [0.05, 0.05, 0.8, 0.1],\n",
    "                        [0.05, 0.05, 0.1, 0.8]])\n",
    "\n",
    "hmm = HMM(states, emissions, start_probs, trans_probs, emit_probs)\n",
    "\n",
    "obs = [\"the\", \"dog\", \"run\", \"fast\"]\n",
    "tags = hmm.tag(obs)\n",
    "\n",
    "print(tags)\n"
   ]
  },
  {
   "cell_type": "code",
   "execution_count": null,
   "id": "4625bb93",
   "metadata": {},
   "outputs": [],
   "source": [
    "This means that the model has tagged the words \"the\", \"dog\", \"run\", and \"fast\" as \"DT\" (determiner), \n",
    "\"NN\" (noun), \"VB\" (verb), and \"JJ\" (adjective), respectively."
   ]
  },
  {
   "cell_type": "code",
   "execution_count": null,
   "id": "7d55b94d",
   "metadata": {},
   "outputs": [],
   "source": []
  }
 ],
 "metadata": {
  "kernelspec": {
   "display_name": "Python 3 (ipykernel)",
   "language": "python",
   "name": "python3"
  },
  "language_info": {
   "codemirror_mode": {
    "name": "ipython",
    "version": 3
   },
   "file_extension": ".py",
   "mimetype": "text/x-python",
   "name": "python",
   "nbconvert_exporter": "python",
   "pygments_lexer": "ipython3",
   "version": "3.11.5"
  }
 },
 "nbformat": 4,
 "nbformat_minor": 5
}
