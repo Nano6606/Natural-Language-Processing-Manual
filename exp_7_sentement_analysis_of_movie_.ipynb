{
  "nbformat": 4,
  "nbformat_minor": 0,
  "metadata": {
    "colab": {
      "provenance": []
    },
    "kernelspec": {
      "name": "python3",
      "display_name": "Python 3"
    },
    "language_info": {
      "name": "python"
    }
  },
  "cells": [
    {
      "cell_type": "markdown",
      "source": [
        "sentement analysis of movie exp 7"
      ],
      "metadata": {
        "id": "xLgZD55T5Nzu"
      }
    },
    {
      "cell_type": "code",
      "source": [
        "import nltk\n",
        "from nltk.corpus import movie_reviews\n",
        "from nltk.tokenize import word_tokenize\n",
        "from nltk.classify import NaiveBayesClassifier\n",
        "from nltk.classify.util import accuracy as nltk_accuracy"
      ],
      "metadata": {
        "id": "Ygg3FZUn5Yv_"
      },
      "execution_count": 1,
      "outputs": []
    },
    {
      "cell_type": "code",
      "source": [
        "nltk.download('movie_reviews')\n",
        "nltk.download('punkt')\n",
        "\n",
        "def extract_features(words):\n",
        "    return dict([(word, True) for word in words])\n",
        "\n",
        "documents = [(list(movie_reviews.words(fileid)), category)\n",
        "             for category in movie_reviews.categories()\n",
        "             for fileid in movie_reviews.fileids(category)]\n",
        "\n",
        "import random\n",
        "random.shuffle(documents)\n",
        "\n",
        "featuresets = [(extract_features(words), category) for (words, category) in documents]\n",
        "\n",
        "train_set, test_set = featuresets[100:], featuresets[:100]\n",
        "\n",
        "classifier = NaiveBayesClassifier.train(train_set)\n",
        "\n",
        "print(\"Accuracy:\", nltk_accuracy(classifier, test_set))"
      ],
      "metadata": {
        "id": "JyytNeQD6qoM",
        "colab": {
          "base_uri": "https://localhost:8080/"
        },
        "outputId": "1cdd2229-3cc9-4fc0-fdf7-b6624e4702ef"
      },
      "execution_count": 2,
      "outputs": [
        {
          "output_type": "stream",
          "name": "stderr",
          "text": [
            "[nltk_data] Downloading package movie_reviews to /root/nltk_data...\n",
            "[nltk_data]   Unzipping corpora/movie_reviews.zip.\n",
            "[nltk_data] Downloading package punkt to /root/nltk_data...\n",
            "[nltk_data]   Unzipping tokenizers/punkt.zip.\n"
          ]
        },
        {
          "output_type": "stream",
          "name": "stdout",
          "text": [
            "Accuracy: 0.77\n"
          ]
        }
      ]
    },
    {
      "cell_type": "code",
      "source": [
        "def analyze_sentiment(review):\n",
        "    words = word_tokenize(review)\n",
        "    features = extract_features(words)\n",
        "    prob_dist = classifier.prob_classify(features)\n",
        "    sentiment = prob_dist.max()\n",
        "    positive_prob = prob_dist.prob(\"pos\")\n",
        "    negative_prob = prob_dist.prob(\"neg\")\n",
        "    print(\"Review:\", review)\n",
        "    print(\"Sentiment:\", sentiment)\n",
        "    print(\"Probability(Positive):\", format(positive_prob, '.2f'))\n",
        "    print(\"Probability(Negative):\", format(negative_prob, '.2f'))\n",
        "    print()\n",
        "\n",
        "review1 = \"This movie was fantastic! I loved every moment of it.\"\n",
        "review2 = \"This movie was terrible. I hated every moment of it.\"\n",
        "\n",
        "analyze_sentiment(review1)\n",
        "analyze_sentiment(review2)\n"
      ],
      "metadata": {
        "colab": {
          "base_uri": "https://localhost:8080/"
        },
        "id": "gKEE8U5XTj4F",
        "outputId": "2d581a81-49db-40db-c3a4-385961545179"
      },
      "execution_count": 3,
      "outputs": [
        {
          "output_type": "stream",
          "name": "stdout",
          "text": [
            "Review: This movie was fantastic! I loved every moment of it.\n",
            "Sentiment: pos\n",
            "Probability(Positive): 0.84\n",
            "Probability(Negative): 0.16\n",
            "\n",
            "Review: This movie was terrible. I hated every moment of it.\n",
            "Sentiment: neg\n",
            "Probability(Positive): 0.16\n",
            "Probability(Negative): 0.84\n",
            "\n"
          ]
        }
      ]
    },
    {
      "cell_type": "code",
      "source": [],
      "metadata": {
        "id": "VUSUfULGTlDF"
      },
      "execution_count": null,
      "outputs": []
    }
  ]
}